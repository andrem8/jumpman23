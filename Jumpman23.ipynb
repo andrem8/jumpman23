{
 "cells": [
  {
   "cell_type": "code",
   "execution_count": 78,
   "metadata": {},
   "outputs": [
    {
     "data": {
      "text/plain": [
       "'\\n\\nAnalysis of delivery data for jumpman23.\\nDashboard of orders:\\nhttp://dashboard-jumpman.herokuapp.com/\\n\\n'"
      ]
     },
     "execution_count": 78,
     "metadata": {},
     "output_type": "execute_result"
    }
   ],
   "source": [
    "'''\n",
    "\n",
    "Analysis of delivery data for jumpman23.\n",
    "Dashboard of orders:\n",
    "http://dashboard-jumpman.herokuapp.com/\n",
    "\n",
    "'''"
   ]
  },
  {
   "cell_type": "code",
   "execution_count": 65,
   "metadata": {},
   "outputs": [],
   "source": [
    "# Render our plots inline\n",
    "%matplotlib inline\n",
    "\n",
    "import pandas as pd\n",
    "import matplotlib.pyplot as plt\n",
    "import numpy as np\n",
    "\n",
    "from IPython.core.interactiveshell import InteractiveShell\n",
    "InteractiveShell.ast_node_interactivity = \"all\""
   ]
  },
  {
   "cell_type": "code",
   "execution_count": 66,
   "metadata": {},
   "outputs": [
    {
     "data": {
      "text/plain": [
       "'\\n\\nImport Data from CSV\\n\\n'"
      ]
     },
     "execution_count": 66,
     "metadata": {},
     "output_type": "execute_result"
    }
   ],
   "source": [
    "'''\n",
    "\n",
    "Import Data from CSV\n",
    "\n",
    "'''\n",
    "\n",
    "df = pd.read_csv('analyze_me.csv')"
   ]
  },
  {
   "cell_type": "code",
   "execution_count": 67,
   "metadata": {},
   "outputs": [
    {
     "data": {
      "text/plain": [
       "'\\n\\ndataframe size and shape\\n\\n'"
      ]
     },
     "execution_count": 67,
     "metadata": {},
     "output_type": "execute_result"
    },
    {
     "data": {
      "text/plain": [
       "(5983, 18)"
      ]
     },
     "execution_count": 67,
     "metadata": {},
     "output_type": "execute_result"
    }
   ],
   "source": [
    "'''\n",
    "\n",
    "dataframe size and shape\n",
    "\n",
    "'''\n",
    "\n",
    "df.shape"
   ]
  },
  {
   "cell_type": "code",
   "execution_count": 68,
   "metadata": {},
   "outputs": [
    {
     "data": {
      "text/html": [
       "<div>\n",
       "<style scoped>\n",
       "    .dataframe tbody tr th:only-of-type {\n",
       "        vertical-align: middle;\n",
       "    }\n",
       "\n",
       "    .dataframe tbody tr th {\n",
       "        vertical-align: top;\n",
       "    }\n",
       "\n",
       "    .dataframe thead th {\n",
       "        text-align: right;\n",
       "    }\n",
       "</style>\n",
       "<table border=\"1\" class=\"dataframe\">\n",
       "  <thead>\n",
       "    <tr style=\"text-align: right;\">\n",
       "      <th></th>\n",
       "      <th>delivery_id</th>\n",
       "      <th>customer_id</th>\n",
       "      <th>jumpman_id</th>\n",
       "      <th>vehicle_type</th>\n",
       "      <th>pickup_place</th>\n",
       "      <th>place_category</th>\n",
       "      <th>item_name</th>\n",
       "      <th>item_quantity</th>\n",
       "      <th>item_category_name</th>\n",
       "      <th>how_long_it_took_to_order</th>\n",
       "      <th>pickup_lat</th>\n",
       "      <th>pickup_lon</th>\n",
       "      <th>dropoff_lat</th>\n",
       "      <th>dropoff_lon</th>\n",
       "      <th>when_the_delivery_started</th>\n",
       "      <th>when_the_Jumpman_arrived_at_pickup</th>\n",
       "      <th>when_the_Jumpman_left_pickup</th>\n",
       "      <th>when_the_Jumpman_arrived_at_dropoff</th>\n",
       "    </tr>\n",
       "  </thead>\n",
       "  <tbody>\n",
       "    <tr>\n",
       "      <th>0</th>\n",
       "      <td>1457973</td>\n",
       "      <td>327168</td>\n",
       "      <td>162381</td>\n",
       "      <td>van</td>\n",
       "      <td>Melt Shop</td>\n",
       "      <td>American</td>\n",
       "      <td>Lemonade</td>\n",
       "      <td>1.0</td>\n",
       "      <td>Beverages</td>\n",
       "      <td>00:19:58.582052</td>\n",
       "      <td>40.744607</td>\n",
       "      <td>-73.990742</td>\n",
       "      <td>40.752073</td>\n",
       "      <td>-73.985370</td>\n",
       "      <td>2014-10-26 13:51:59.898924</td>\n",
       "      <td>NaN</td>\n",
       "      <td>NaN</td>\n",
       "      <td>2014-10-26 14:52:06.313088</td>\n",
       "    </tr>\n",
       "    <tr>\n",
       "      <th>1</th>\n",
       "      <td>1377056</td>\n",
       "      <td>64452</td>\n",
       "      <td>104533</td>\n",
       "      <td>bicycle</td>\n",
       "      <td>Prince Street Pizza</td>\n",
       "      <td>Pizza</td>\n",
       "      <td>Neapolitan Rice Balls</td>\n",
       "      <td>3.0</td>\n",
       "      <td>Munchables</td>\n",
       "      <td>00:25:09.107093</td>\n",
       "      <td>40.723080</td>\n",
       "      <td>-73.994615</td>\n",
       "      <td>40.719722</td>\n",
       "      <td>-73.991858</td>\n",
       "      <td>2014-10-16 21:58:58.65491</td>\n",
       "      <td>2014-10-16 22:26:02.120931</td>\n",
       "      <td>2014-10-16 22:48:23.091253</td>\n",
       "      <td>2014-10-16 22:59:22.948873</td>\n",
       "    </tr>\n",
       "    <tr>\n",
       "      <th>2</th>\n",
       "      <td>1476547</td>\n",
       "      <td>83095</td>\n",
       "      <td>132725</td>\n",
       "      <td>bicycle</td>\n",
       "      <td>Bareburger</td>\n",
       "      <td>Burger</td>\n",
       "      <td>Bare Sodas</td>\n",
       "      <td>1.0</td>\n",
       "      <td>Drinks</td>\n",
       "      <td>00:06:44.541717</td>\n",
       "      <td>40.728478</td>\n",
       "      <td>-73.998392</td>\n",
       "      <td>40.728606</td>\n",
       "      <td>-73.995143</td>\n",
       "      <td>2014-10-28 21:39:52.654394</td>\n",
       "      <td>2014-10-28 21:37:18.793405</td>\n",
       "      <td>2014-10-28 21:59:09.98481</td>\n",
       "      <td>2014-10-28 22:04:40.634962</td>\n",
       "    </tr>\n",
       "    <tr>\n",
       "      <th>3</th>\n",
       "      <td>1485494</td>\n",
       "      <td>271149</td>\n",
       "      <td>157175</td>\n",
       "      <td>bicycle</td>\n",
       "      <td>Juice Press</td>\n",
       "      <td>Juice Bar</td>\n",
       "      <td>OMG! My Favorite Juice!</td>\n",
       "      <td>1.0</td>\n",
       "      <td>Cold Pressed Juices</td>\n",
       "      <td>NaN</td>\n",
       "      <td>40.738868</td>\n",
       "      <td>-74.002747</td>\n",
       "      <td>40.751257</td>\n",
       "      <td>-74.005634</td>\n",
       "      <td>2014-10-30 10:54:11.531894</td>\n",
       "      <td>2014-10-30 11:04:17.759577</td>\n",
       "      <td>2014-10-30 11:16:37.895816</td>\n",
       "      <td>2014-10-30 11:32:38.090061</td>\n",
       "    </tr>\n",
       "    <tr>\n",
       "      <th>4</th>\n",
       "      <td>1327707</td>\n",
       "      <td>122609</td>\n",
       "      <td>118095</td>\n",
       "      <td>bicycle</td>\n",
       "      <td>Blue Ribbon Sushi</td>\n",
       "      <td>Japanese</td>\n",
       "      <td>Spicy Tuna &amp; Tempura Flakes</td>\n",
       "      <td>2.0</td>\n",
       "      <td>Maki (Special Rolls)</td>\n",
       "      <td>00:03:45.035418</td>\n",
       "      <td>40.726110</td>\n",
       "      <td>-74.002492</td>\n",
       "      <td>40.709323</td>\n",
       "      <td>-74.015867</td>\n",
       "      <td>2014-10-10 00:07:18.450505</td>\n",
       "      <td>2014-10-10 00:14:42.702223</td>\n",
       "      <td>2014-10-10 00:25:19.400294</td>\n",
       "      <td>2014-10-10 00:48:27.150595</td>\n",
       "    </tr>\n",
       "  </tbody>\n",
       "</table>\n",
       "</div>"
      ],
      "text/plain": [
       "   delivery_id  customer_id  jumpman_id vehicle_type         pickup_place  \\\n",
       "0      1457973       327168      162381          van            Melt Shop   \n",
       "1      1377056        64452      104533      bicycle  Prince Street Pizza   \n",
       "2      1476547        83095      132725      bicycle           Bareburger   \n",
       "3      1485494       271149      157175      bicycle          Juice Press   \n",
       "4      1327707       122609      118095      bicycle    Blue Ribbon Sushi   \n",
       "\n",
       "  place_category                    item_name  item_quantity  \\\n",
       "0       American                     Lemonade            1.0   \n",
       "1          Pizza        Neapolitan Rice Balls            3.0   \n",
       "2         Burger                   Bare Sodas            1.0   \n",
       "3      Juice Bar      OMG! My Favorite Juice!            1.0   \n",
       "4       Japanese  Spicy Tuna & Tempura Flakes            2.0   \n",
       "\n",
       "     item_category_name how_long_it_took_to_order  pickup_lat  pickup_lon  \\\n",
       "0             Beverages           00:19:58.582052   40.744607  -73.990742   \n",
       "1            Munchables           00:25:09.107093   40.723080  -73.994615   \n",
       "2                Drinks           00:06:44.541717   40.728478  -73.998392   \n",
       "3   Cold Pressed Juices                       NaN   40.738868  -74.002747   \n",
       "4  Maki (Special Rolls)           00:03:45.035418   40.726110  -74.002492   \n",
       "\n",
       "   dropoff_lat  dropoff_lon   when_the_delivery_started  \\\n",
       "0    40.752073   -73.985370  2014-10-26 13:51:59.898924   \n",
       "1    40.719722   -73.991858   2014-10-16 21:58:58.65491   \n",
       "2    40.728606   -73.995143  2014-10-28 21:39:52.654394   \n",
       "3    40.751257   -74.005634  2014-10-30 10:54:11.531894   \n",
       "4    40.709323   -74.015867  2014-10-10 00:07:18.450505   \n",
       "\n",
       "  when_the_Jumpman_arrived_at_pickup when_the_Jumpman_left_pickup  \\\n",
       "0                                NaN                          NaN   \n",
       "1         2014-10-16 22:26:02.120931   2014-10-16 22:48:23.091253   \n",
       "2         2014-10-28 21:37:18.793405    2014-10-28 21:59:09.98481   \n",
       "3         2014-10-30 11:04:17.759577   2014-10-30 11:16:37.895816   \n",
       "4         2014-10-10 00:14:42.702223   2014-10-10 00:25:19.400294   \n",
       "\n",
       "  when_the_Jumpman_arrived_at_dropoff  \n",
       "0          2014-10-26 14:52:06.313088  \n",
       "1          2014-10-16 22:59:22.948873  \n",
       "2          2014-10-28 22:04:40.634962  \n",
       "3          2014-10-30 11:32:38.090061  \n",
       "4          2014-10-10 00:48:27.150595  "
      ]
     },
     "execution_count": 68,
     "metadata": {},
     "output_type": "execute_result"
    }
   ],
   "source": [
    "df.head()"
   ]
  },
  {
   "cell_type": "code",
   "execution_count": 69,
   "metadata": {},
   "outputs": [
    {
     "data": {
      "text/plain": [
       "'\\n\\nColumn Data Types\\n\\n'"
      ]
     },
     "execution_count": 69,
     "metadata": {},
     "output_type": "execute_result"
    },
    {
     "data": {
      "text/plain": [
       "delivery_id                              int64\n",
       "customer_id                              int64\n",
       "jumpman_id                               int64\n",
       "vehicle_type                            object\n",
       "pickup_place                            object\n",
       "place_category                          object\n",
       "item_name                               object\n",
       "item_quantity                          float64\n",
       "item_category_name                      object\n",
       "how_long_it_took_to_order               object\n",
       "pickup_lat                             float64\n",
       "pickup_lon                             float64\n",
       "dropoff_lat                            float64\n",
       "dropoff_lon                            float64\n",
       "when_the_delivery_started               object\n",
       "when_the_Jumpman_arrived_at_pickup      object\n",
       "when_the_Jumpman_left_pickup            object\n",
       "when_the_Jumpman_arrived_at_dropoff     object\n",
       "dtype: object"
      ]
     },
     "execution_count": 69,
     "metadata": {},
     "output_type": "execute_result"
    }
   ],
   "source": [
    "'''\n",
    "\n",
    "Column Data Types\n",
    "\n",
    "'''\n",
    "\n",
    "\n",
    "df.dtypes"
   ]
  },
  {
   "cell_type": "code",
   "execution_count": 70,
   "metadata": {},
   "outputs": [
    {
     "data": {
      "text/plain": [
       "'\\nThe number of non-null values in each DataFrame column. \\n\\n'"
      ]
     },
     "execution_count": 70,
     "metadata": {},
     "output_type": "execute_result"
    },
    {
     "data": {
      "text/plain": [
       "delivery_id                            5983\n",
       "customer_id                            5983\n",
       "jumpman_id                             5983\n",
       "vehicle_type                           5983\n",
       "pickup_place                           5983\n",
       "place_category                         5100\n",
       "item_name                              4753\n",
       "item_quantity                          4753\n",
       "item_category_name                     4753\n",
       "how_long_it_took_to_order              3038\n",
       "pickup_lat                             5983\n",
       "pickup_lon                             5983\n",
       "dropoff_lat                            5983\n",
       "dropoff_lon                            5983\n",
       "when_the_delivery_started              5983\n",
       "when_the_Jumpman_arrived_at_pickup     5433\n",
       "when_the_Jumpman_left_pickup           5433\n",
       "when_the_Jumpman_arrived_at_dropoff    5983\n",
       "dtype: int64"
      ]
     },
     "execution_count": 70,
     "metadata": {},
     "output_type": "execute_result"
    }
   ],
   "source": [
    "'''\n",
    "The number of non-null values in each DataFrame column. \n",
    "\n",
    "'''\n",
    "\n",
    "df.count()"
   ]
  },
  {
   "cell_type": "code",
   "execution_count": 71,
   "metadata": {},
   "outputs": [
    {
     "data": {
      "text/plain": [
       "'\\nNotable missing data for the following columns:\\nplace_category,item_name,item_quantity,item_category_name,how_long_it_took_to_order\\nwhen_the_Jumpman_arrived_at_pickup,when_the_Jumpman_left_pickup\\n\\n'"
      ]
     },
     "execution_count": 71,
     "metadata": {},
     "output_type": "execute_result"
    }
   ],
   "source": [
    "'''\n",
    "Notable missing data for the following columns:\n",
    "place_category,item_name,item_quantity,item_category_name,how_long_it_took_to_order\n",
    "when_the_Jumpman_arrived_at_pickup,when_the_Jumpman_left_pickup\n",
    "\n",
    "'''\n"
   ]
  },
  {
   "cell_type": "code",
   "execution_count": 17,
   "metadata": {},
   "outputs": [
    {
     "data": {
      "text/plain": [
       "'\\nReplace NaT values with average order time\\nReplace item quantity null values with most frequent value\\n'"
      ]
     },
     "execution_count": 17,
     "metadata": {},
     "output_type": "execute_result"
    }
   ],
   "source": [
    "'''\n",
    "Replace NaT values with average order time\n",
    "Replace item quantity null values with most frequent value\n",
    "'''\n",
    "\n",
    "average_order_time = pd.Series(pd.to_timedelta(df.how_long_it_took_to_order))\n",
    "average_order_time = average_order_time.mean()\n",
    "df.how_long_it_took_to_order.fillna(average_order_time,inplace=True)\n",
    "item_quantity = df.item_quantity.mode().astype(int)[0]\n",
    "df.item_quantity.fillna(item_quantity,inplace=True)"
   ]
  },
  {
   "cell_type": "code",
   "execution_count": 18,
   "metadata": {},
   "outputs": [
    {
     "data": {
      "text/plain": [
       "'\\n\\nGroup by pickup place and find the most common order, category and place category. Update missing data accordingly.\\n\\n'"
      ]
     },
     "execution_count": 18,
     "metadata": {},
     "output_type": "execute_result"
    }
   ],
   "source": [
    "'''\n",
    "\n",
    "Group by pickup place and find the most common order, category and place category. Update missing data accordingly.\n",
    "\n",
    "'''\n",
    "\n",
    "most_common_order = df.groupby(['pickup_place'])['item_name'].apply(lambda x: np.nan if x.isnull().all() else x.value_counts().index[0]).reset_index()\n",
    "most_common_category = df.groupby(['pickup_place'])['item_category_name'].apply(lambda x: np.nan if x.isnull().all() else x.value_counts().index[0]).reset_index()\n",
    "most_common_place_category = df.groupby(['pickup_place'])['place_category'].apply(lambda x: np.nan if x.isnull().all() else x.value_counts().index[0]).reset_index()"
   ]
  },
  {
   "cell_type": "code",
   "execution_count": 19,
   "metadata": {},
   "outputs": [
    {
     "data": {
      "text/plain": [
       "'\\n\\nLeft join the data to replace null values\\n\\n'"
      ]
     },
     "execution_count": 19,
     "metadata": {},
     "output_type": "execute_result"
    }
   ],
   "source": [
    "'''\n",
    "\n",
    "Left join the data to replace null values\n",
    "\n",
    "'''\n",
    "\n",
    "\n",
    "df.update(most_common_order,overwrite=False)\n",
    "df.update(most_common_category,overwrite=False)\n",
    "df.update(most_common_place_category,overwrite=False)"
   ]
  },
  {
   "cell_type": "code",
   "execution_count": 20,
   "metadata": {},
   "outputs": [
    {
     "data": {
      "text/plain": [
       "\"\\n\\nWe're missing several timestamps for arrival to pickup and leaving the pickup location.\\nI'm going to find the average time between dropoff and arrival. Using the average time interval\\nI can then update null values with a good estimate of arrival / leaving.\\n\\n\""
      ]
     },
     "execution_count": 20,
     "metadata": {},
     "output_type": "execute_result"
    },
    {
     "name": "stderr",
     "output_type": "stream",
     "text": [
      "/Users/andremansour/opt/anaconda3/lib/python3.7/site-packages/ipykernel_launcher.py:11: UserWarning: Pandas doesn't allow columns to be created via a new attribute name - see https://pandas.pydata.org/pandas-docs/stable/indexing.html#attribute-access\n",
      "  # This is added back by InteractiveShellApp.init_path()\n",
      "/Users/andremansour/opt/anaconda3/lib/python3.7/site-packages/ipykernel_launcher.py:12: UserWarning: Pandas doesn't allow columns to be created via a new attribute name - see https://pandas.pydata.org/pandas-docs/stable/indexing.html#attribute-access\n",
      "  if sys.path[0] == '':\n"
     ]
    }
   ],
   "source": [
    "'''\n",
    "\n",
    "We're missing several timestamps for arrival to pickup and leaving the pickup location.\n",
    "I'm going to find the average time between dropoff and arrival. Using the average time interval\n",
    "I can then update null values with a good estimate of arrival / leaving.\n",
    "\n",
    "'''\n",
    "\n",
    "\n",
    "\n",
    "df.pickup_to_arrival = pd.to_datetime(df['when_the_Jumpman_arrived_at_dropoff'])-pd.to_datetime(df['when_the_Jumpman_left_pickup'])\n",
    "df.arrived_at_pickup = pd.to_datetime(df['when_the_Jumpman_arrived_at_dropoff'])-pd.to_datetime(df['when_the_Jumpman_arrived_at_pickup'])\n",
    "pickup_to_arrival = df.pickup_to_arrival.mean()\n",
    "arrived_at_pickup = df.arrived_at_pickup.mean()"
   ]
  },
  {
   "cell_type": "code",
   "execution_count": 21,
   "metadata": {},
   "outputs": [
    {
     "data": {
      "text/plain": [
       "'\\n\\nUpdate Missing Time Values\\n\\n'"
      ]
     },
     "execution_count": 21,
     "metadata": {},
     "output_type": "execute_result"
    }
   ],
   "source": [
    "'''\n",
    "\n",
    "Update Missing Time Values\n",
    "\n",
    "'''\n",
    "\n",
    "df['when_the_Jumpman_left_pickup'].fillna(pd.to_datetime(df['when_the_Jumpman_arrived_at_dropoff']) - pickup_to_arrival,inplace=True)\n",
    "df['when_the_Jumpman_arrived_at_pickup'].fillna(pd.to_datetime(df['when_the_Jumpman_arrived_at_dropoff']) - arrived_at_pickup,inplace=True)"
   ]
  },
  {
   "cell_type": "code",
   "execution_count": 22,
   "metadata": {
    "scrolled": false
   },
   "outputs": [
    {
     "data": {
      "text/plain": [
       "delivery_id                            5983\n",
       "customer_id                            5983\n",
       "jumpman_id                             5983\n",
       "vehicle_type                           5983\n",
       "pickup_place                           5983\n",
       "place_category                         5180\n",
       "item_name                              4829\n",
       "item_quantity                          5983\n",
       "item_category_name                     4829\n",
       "how_long_it_took_to_order              5983\n",
       "pickup_lat                             5983\n",
       "pickup_lon                             5983\n",
       "dropoff_lat                            5983\n",
       "dropoff_lon                            5983\n",
       "when_the_delivery_started              5983\n",
       "when_the_Jumpman_arrived_at_pickup     5983\n",
       "when_the_Jumpman_left_pickup           5983\n",
       "when_the_Jumpman_arrived_at_dropoff    5983\n",
       "dtype: int64"
      ]
     },
     "execution_count": 22,
     "metadata": {},
     "output_type": "execute_result"
    }
   ],
   "source": [
    "df.count()"
   ]
  },
  {
   "cell_type": "code",
   "execution_count": 23,
   "metadata": {},
   "outputs": [
    {
     "data": {
      "text/plain": [
       "\"\\n\\nWe're still missing some data for place_category, item name and category name. I will leave it null for now since\\nI don't think it would help the analysis by giving it a median / modal value.\\n\\n\""
      ]
     },
     "execution_count": 23,
     "metadata": {},
     "output_type": "execute_result"
    }
   ],
   "source": [
    "'''\n",
    "\n",
    "We're still missing some data for place_category, item name and category name. I will leave it null for now since\n",
    "I don't think it would help the analysis by giving it a median / modal value.\n",
    "\n",
    "'''"
   ]
  },
  {
   "cell_type": "code",
   "execution_count": 24,
   "metadata": {},
   "outputs": [
    {
     "data": {
      "text/plain": [
       "'\\n\\nReturn Duplicate delivery id true / false\\n\\n\\n'"
      ]
     },
     "execution_count": 24,
     "metadata": {},
     "output_type": "execute_result"
    }
   ],
   "source": [
    "'''\n",
    "\n",
    "Return Duplicate delivery id true / false\n",
    "\n",
    "\n",
    "'''\n",
    "\n",
    "df['duplicate'] = df['delivery_id'].duplicated()"
   ]
  },
  {
   "cell_type": "code",
   "execution_count": 25,
   "metadata": {},
   "outputs": [
    {
     "data": {
      "text/plain": [
       "'\\n\\nDataframe of non-duplicates\\n\\n'"
      ]
     },
     "execution_count": 25,
     "metadata": {},
     "output_type": "execute_result"
    }
   ],
   "source": [
    "'''\n",
    "\n",
    "Dataframe of non-duplicates\n",
    "\n",
    "'''\n",
    "\n",
    "\n",
    "df1 = df[df['duplicate'] == False]"
   ]
  },
  {
   "cell_type": "code",
   "execution_count": 26,
   "metadata": {},
   "outputs": [
    {
     "data": {
      "text/plain": [
       "'\\n\\nCreate a dataframe of all duplicates. I will add this dataframe to the original as second item, second item quantity etc..\\n\\n'"
      ]
     },
     "execution_count": 26,
     "metadata": {},
     "output_type": "execute_result"
    }
   ],
   "source": [
    "'''\n",
    "\n",
    "Create a dataframe of all duplicates. I will add this dataframe to the original as second item, second item quantity etc..\n",
    "\n",
    "'''\n",
    "\n",
    "second_item_df = df.loc[df.duplicate == True  ,['delivery_id','item_name','item_quantity','item_category_name']] "
   ]
  },
  {
   "cell_type": "code",
   "execution_count": 27,
   "metadata": {},
   "outputs": [
    {
     "data": {
      "text/plain": [
       "'\\n\\nRename columns to second item name, quantity etc..\\n\\n\\n'"
      ]
     },
     "execution_count": 27,
     "metadata": {},
     "output_type": "execute_result"
    }
   ],
   "source": [
    "'''\n",
    "\n",
    "Rename columns to second item name, quantity etc..\n",
    "\n",
    "\n",
    "'''\n",
    "\n",
    "second_item_df = second_item_df.rename(columns={\"item_name\": \"second_item_name\", \"item_quantity\": \"second_item_quantity\",\"item_category_name\":\"second_item_category_name\"})"
   ]
  },
  {
   "cell_type": "code",
   "execution_count": 28,
   "metadata": {},
   "outputs": [],
   "source": [
    "df = pd.merge(df1,second_item_df,on = 'delivery_id',how='left')"
   ]
  },
  {
   "cell_type": "code",
   "execution_count": 29,
   "metadata": {},
   "outputs": [
    {
     "data": {
      "text/plain": [
       "delivery_id                            5327\n",
       "customer_id                            5327\n",
       "jumpman_id                             5327\n",
       "vehicle_type                           5327\n",
       "pickup_place                           5327\n",
       "place_category                         4561\n",
       "item_name                              4173\n",
       "item_quantity                          5327\n",
       "item_category_name                     4173\n",
       "how_long_it_took_to_order              5327\n",
       "pickup_lat                             5327\n",
       "pickup_lon                             5327\n",
       "dropoff_lat                            5327\n",
       "dropoff_lon                            5327\n",
       "when_the_delivery_started              5327\n",
       "when_the_Jumpman_arrived_at_pickup     5327\n",
       "when_the_Jumpman_left_pickup           5327\n",
       "when_the_Jumpman_arrived_at_dropoff    5327\n",
       "duplicate                              5327\n",
       "second_item_name                        769\n",
       "second_item_quantity                    769\n",
       "second_item_category_name               769\n",
       "dtype: int64"
      ]
     },
     "execution_count": 29,
     "metadata": {},
     "output_type": "execute_result"
    }
   ],
   "source": [
    "df.count()"
   ]
  },
  {
   "cell_type": "code",
   "execution_count": 33,
   "metadata": {},
   "outputs": [
    {
     "data": {
      "text/plain": [
       "'\\n\\nDeliveries by vehicle type\\n\\n'"
      ]
     },
     "execution_count": 33,
     "metadata": {},
     "output_type": "execute_result"
    },
    {
     "data": {
      "text/plain": [
       "<matplotlib.axes._subplots.AxesSubplot at 0x1216e95d0>"
      ]
     },
     "execution_count": 33,
     "metadata": {},
     "output_type": "execute_result"
    },
    {
     "data": {
      "image/png": "[encoded data removed]",
      "text/plain": [
       "<Figure size 432x288 with 1 Axes>"
      ]
     },
     "metadata": {
      "needs_background": "light"
     },
     "output_type": "display_data"
    }
   ],
   "source": [
    "'''\n",
    "\n",
    "Deliveries by vehicle type\n",
    "\n",
    "'''\n",
    "\n",
    "df.vehicle_type.value_counts().sort_values().plot(kind = 'barh')\n"
   ]
  },
  {
   "cell_type": "code",
   "execution_count": 73,
   "metadata": {},
   "outputs": [
    {
     "data": {
      "text/plain": [
       "'\\n\\nDeliveries by day of the week. Sunday is the busiest day of the week and Monday appears to dropoff\\n\\n'"
      ]
     },
     "execution_count": 73,
     "metadata": {},
     "output_type": "execute_result"
    },
    {
     "data": {
      "text/plain": [
       "<matplotlib.axes._subplots.AxesSubplot at 0x122528fd0>"
      ]
     },
     "execution_count": 73,
     "metadata": {},
     "output_type": "execute_result"
    },
    {
     "data": {
      "image/png": "[encoded data removed]",
      "text/plain": [
       "<Figure size 432x288 with 1 Axes>"
      ]
     },
     "metadata": {
      "needs_background": "light"
     },
     "output_type": "display_data"
    }
   ],
   "source": [
    "'''\n",
    "\n",
    "Deliveries by day of the week. Sunday is the busiest day of the week and Monday appears to dropoff\n",
    "\n",
    "'''\n",
    "\n",
    "\n",
    "df['delivery_date'] = pd.to_datetime(df['when_the_Jumpman_arrived_at_dropoff'])\n",
    "df['day_of_week'] = df['delivery_date'].dt.day_name()\n",
    "df.day_of_week.value_counts().sort_values().plot(kind = 'bar')\n"
   ]
  },
  {
   "cell_type": "code",
   "execution_count": 77,
   "metadata": {},
   "outputs": [
    {
     "ename": "SyntaxError",
     "evalue": "invalid syntax (<ipython-input-77-22c071973acf>, line 19)",
     "output_type": "error",
     "traceback": [
      "\u001b[0;36m  File \u001b[0;32m\"<ipython-input-77-22c071973acf>\"\u001b[0;36m, line \u001b[0;32m19\u001b[0m\n\u001b[0;31m    http://dashboard-jumpman.herokuapp.com/\u001b[0m\n\u001b[0m          ^\u001b[0m\n\u001b[0;31mSyntaxError\u001b[0m\u001b[0;31m:\u001b[0m invalid syntax\n"
     ]
    }
   ],
   "source": [
    "'''\n",
    "In order to perform more in-depth analysis of time and date trends I created the following dashboard of deliveries\n",
    "by geo-location and time/day:\n",
    "http://dashboard-jumpman.herokuapp.com/\n",
    "\n",
    "The distribution appears to be bi-modal on weekdays. Orders hit the first peak from around lunch time between 10-2pm\n",
    "and then taper off in the afternoon. The highest peak of the day is around dinner time between 5pm - 8pm.\n",
    "\n",
    "On weekend days the distribiton is less bi-modal and we see few lunchtime orders. Dinner orders, however, spike for the\n",
    "week.\n",
    "\n",
    "In looking at the geo-data, the orders typically are concentrated in lower Manhattan. \n",
    "\n",
    "\n",
    "'''\n"
   ]
  },
  {
   "cell_type": "code",
   "execution_count": null,
   "metadata": {},
   "outputs": [],
   "source": []
  }
 ],
 "metadata": {
  "kernelspec": {
   "display_name": "Python 3",
   "language": "python",
   "name": "python3"
  },
  "language_info": {
   "codemirror_mode": {
    "name": "ipython",
    "version": 3
   },
   "file_extension": ".py",
   "mimetype": "text/x-python",
   "name": "python",
   "nbconvert_exporter": "python",
   "pygments_lexer": "ipython3",
   "version": "3.7.6"
  }
 },
 "nbformat": 4,
 "nbformat_minor": 4
}
